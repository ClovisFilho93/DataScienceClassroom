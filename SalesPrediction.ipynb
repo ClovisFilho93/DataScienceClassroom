{
 "cells": [
  {
   "cell_type": "code",
   "execution_count": 13,
   "metadata": {
    "collapsed": true
   },
   "outputs": [],
   "source": [
    "'''\n",
    "From `Into To Statistical Learning`, by Prof. Gareth James\n",
    "\n",
    "Suppose that we are statistical consultants hired by a client to provide advice on how to improve \n",
    "sales of a particular product. The Advertising data set consists of the sales of that \n",
    "product in 200 different markets, along with advertising budgets for the product in each of those \n",
    "markets for three different media: TV, radio, and newspaper.\n",
    "\n",
    "Let's predict our sales by controling the butget for advertising.\n",
    "'''\n",
    "\n",
    "# Import the libs we need\n",
    "import pandas as pd\n",
    "import seaborn as sbn\n",
    "%matplotlib inline"
   ]
  },
  {
   "cell_type": "code",
   "execution_count": 8,
   "metadata": {
    "collapsed": true
   },
   "outputs": [],
   "source": [
    "# Read dataset\n",
    "dataset = pd.read_csv('/Users/croves/Documents/Code/Data Science/resources/advertising.csv')"
   ]
  },
  {
   "cell_type": "code",
   "execution_count": 9,
   "metadata": {},
   "outputs": [
    {
     "data": {
      "text/html": [
       "<div>\n",
       "<style>\n",
       "    .dataframe thead tr:only-child th {\n",
       "        text-align: right;\n",
       "    }\n",
       "\n",
       "    .dataframe thead th {\n",
       "        text-align: left;\n",
       "    }\n",
       "\n",
       "    .dataframe tbody tr th {\n",
       "        vertical-align: top;\n",
       "    }\n",
       "</style>\n",
       "<table border=\"1\" class=\"dataframe\">\n",
       "  <thead>\n",
       "    <tr style=\"text-align: right;\">\n",
       "      <th></th>\n",
       "      <th>Unnamed: 0</th>\n",
       "      <th>TV</th>\n",
       "      <th>radio</th>\n",
       "      <th>newspaper</th>\n",
       "      <th>sales</th>\n",
       "    </tr>\n",
       "  </thead>\n",
       "  <tbody>\n",
       "    <tr>\n",
       "      <th>0</th>\n",
       "      <td>1</td>\n",
       "      <td>230.1</td>\n",
       "      <td>37.8</td>\n",
       "      <td>69.2</td>\n",
       "      <td>22.1</td>\n",
       "    </tr>\n",
       "    <tr>\n",
       "      <th>1</th>\n",
       "      <td>2</td>\n",
       "      <td>44.5</td>\n",
       "      <td>39.3</td>\n",
       "      <td>45.1</td>\n",
       "      <td>10.4</td>\n",
       "    </tr>\n",
       "    <tr>\n",
       "      <th>2</th>\n",
       "      <td>3</td>\n",
       "      <td>17.2</td>\n",
       "      <td>45.9</td>\n",
       "      <td>69.3</td>\n",
       "      <td>9.3</td>\n",
       "    </tr>\n",
       "    <tr>\n",
       "      <th>3</th>\n",
       "      <td>4</td>\n",
       "      <td>151.5</td>\n",
       "      <td>41.3</td>\n",
       "      <td>58.5</td>\n",
       "      <td>18.5</td>\n",
       "    </tr>\n",
       "    <tr>\n",
       "      <th>4</th>\n",
       "      <td>5</td>\n",
       "      <td>180.8</td>\n",
       "      <td>10.8</td>\n",
       "      <td>58.4</td>\n",
       "      <td>12.9</td>\n",
       "    </tr>\n",
       "  </tbody>\n",
       "</table>\n",
       "</div>"
      ],
      "text/plain": [
       "   Unnamed: 0     TV  radio  newspaper  sales\n",
       "0           1  230.1   37.8       69.2   22.1\n",
       "1           2   44.5   39.3       45.1   10.4\n",
       "2           3   17.2   45.9       69.3    9.3\n",
       "3           4  151.5   41.3       58.5   18.5\n",
       "4           5  180.8   10.8       58.4   12.9"
      ]
     },
     "execution_count": 9,
     "metadata": {},
     "output_type": "execute_result"
    }
   ],
   "source": [
    "# Let's see a few rows of our dataset\n",
    "dataset.head()"
   ]
  },
  {
   "cell_type": "code",
   "execution_count": 10,
   "metadata": {
    "collapsed": true
   },
   "outputs": [],
   "source": [
    "'''\n",
    "It seems that the first column (\"Unnamed: 0\") suposed to be the line index. \n",
    "Let's change it!\n",
    "'''\n",
    "dataset = pd.read_csv('/Users/croves/Documents/Code/Data Science/resources/advertising.csv', index_col=0)"
   ]
  },
  {
   "cell_type": "code",
   "execution_count": 11,
   "metadata": {},
   "outputs": [
    {
     "data": {
      "text/html": [
       "<div>\n",
       "<style>\n",
       "    .dataframe thead tr:only-child th {\n",
       "        text-align: right;\n",
       "    }\n",
       "\n",
       "    .dataframe thead th {\n",
       "        text-align: left;\n",
       "    }\n",
       "\n",
       "    .dataframe tbody tr th {\n",
       "        vertical-align: top;\n",
       "    }\n",
       "</style>\n",
       "<table border=\"1\" class=\"dataframe\">\n",
       "  <thead>\n",
       "    <tr style=\"text-align: right;\">\n",
       "      <th></th>\n",
       "      <th>TV</th>\n",
       "      <th>radio</th>\n",
       "      <th>newspaper</th>\n",
       "      <th>sales</th>\n",
       "    </tr>\n",
       "  </thead>\n",
       "  <tbody>\n",
       "    <tr>\n",
       "      <th>1</th>\n",
       "      <td>230.1</td>\n",
       "      <td>37.8</td>\n",
       "      <td>69.2</td>\n",
       "      <td>22.1</td>\n",
       "    </tr>\n",
       "    <tr>\n",
       "      <th>2</th>\n",
       "      <td>44.5</td>\n",
       "      <td>39.3</td>\n",
       "      <td>45.1</td>\n",
       "      <td>10.4</td>\n",
       "    </tr>\n",
       "    <tr>\n",
       "      <th>3</th>\n",
       "      <td>17.2</td>\n",
       "      <td>45.9</td>\n",
       "      <td>69.3</td>\n",
       "      <td>9.3</td>\n",
       "    </tr>\n",
       "    <tr>\n",
       "      <th>4</th>\n",
       "      <td>151.5</td>\n",
       "      <td>41.3</td>\n",
       "      <td>58.5</td>\n",
       "      <td>18.5</td>\n",
       "    </tr>\n",
       "    <tr>\n",
       "      <th>5</th>\n",
       "      <td>180.8</td>\n",
       "      <td>10.8</td>\n",
       "      <td>58.4</td>\n",
       "      <td>12.9</td>\n",
       "    </tr>\n",
       "  </tbody>\n",
       "</table>\n",
       "</div>"
      ],
      "text/plain": [
       "      TV  radio  newspaper  sales\n",
       "1  230.1   37.8       69.2   22.1\n",
       "2   44.5   39.3       45.1   10.4\n",
       "3   17.2   45.9       69.3    9.3\n",
       "4  151.5   41.3       58.5   18.5\n",
       "5  180.8   10.8       58.4   12.9"
      ]
     },
     "execution_count": 11,
     "metadata": {},
     "output_type": "execute_result"
    }
   ],
   "source": [
    "dataset.head()"
   ]
  },
  {
   "cell_type": "code",
   "execution_count": 12,
   "metadata": {},
   "outputs": [
    {
     "name": "stdout",
     "output_type": "stream",
     "text": [
      "1    22.1\n",
      "2    10.4\n",
      "3     9.3\n",
      "4    18.5\n",
      "5    12.9\n",
      "Name: sales, dtype: float64\n",
      "      TV  radio  newspaper\n",
      "1  230.1   37.8       69.2\n",
      "2   44.5   39.3       45.1\n",
      "3   17.2   45.9       69.3\n",
      "4  151.5   41.3       58.5\n",
      "5  180.8   10.8       58.4\n"
     ]
    }
   ],
   "source": [
    "'''\n",
    "Way better! Now let's split our data\n",
    "Sales is our dependent variable - it means sales depends on spending in tv, radio and newspaper\n",
    "TV, radio and newspaper are our independent variables. They don't depend on any other variable.\n",
    "Usually we call dependent variables as `y` and independent variables as `Xn`\n",
    "'''\n",
    "\n",
    "y = dataset['sales']\n",
    "X = dataset[['TV', 'radio', 'newspaper']]\n",
    "\n",
    "print(y.head())\n",
    "print(X.head())"
   ]
  },
  {
   "cell_type": "code",
   "execution_count": 15,
   "metadata": {},
   "outputs": [
    {
     "data": {
      "text/plain": [
       "<seaborn.axisgrid.PairGrid at 0x11485cbe0>"
      ]
     },
     "execution_count": 15,
     "metadata": {},
     "output_type": "execute_result"
    },
    {
     "data": {
      "image/png": "[encoded data removed]",
      "text/plain": [
       "<matplotlib.figure.Figure at 0x11485cd30>"
      ]
     },
     "metadata": {},
     "output_type": "display_data"
    }
   ],
   "source": [
    "# Before getting into the math, let's see if there's any relationship between each `X` with `y`\n",
    "sbn.pairplot(dataset, x_vars=['TV', 'radio', 'newspaper'], y_vars='sales', size=7, aspect=0.7, kind='reg')"
   ]
  },
  {
   "cell_type": "code",
   "execution_count": 17,
   "metadata": {},
   "outputs": [
    {
     "name": "stdout",
     "output_type": "stream",
     "text": [
      "2.93888936946\n",
      "[ 0.04576465  0.18853002 -0.00103749]\n"
     ]
    }
   ],
   "source": [
    "'''\n",
    "As we can see in charts above, TV seems to have a high impact in sales. Radio have some impact, but not much as TV.\n",
    "Newspaper seems to have a very weak correlation in sales. You can see a lot of outliers in chart.\n",
    "Let's create a funcion that explains the behavior of sales compared to each media type.\n",
    "'''\n",
    "from sklearn import linear_model\n",
    "\n",
    "reg = linear_model.LinearRegression()\n",
    "reg.fit(X, y)\n",
    "\n",
    "print(reg.intercept_) # This is the intercept. It says what sales will be if our budget in TV, radio and newspaper is 0\n",
    "print(reg.coef_) # The coeficients are the multiplier for each `Xn`\n",
    "\n",
    "'''\n",
    "Our dataset is in thousand of dolars, so in this case for each $1000 in TV,\n",
    "we can expect a increase in $45.76 in sales. The same for radio and newspaper.\n",
    "Notice that the coeficient for newspaper is negative. It means that investing in newspaper reduces the sales.\n",
    "\n",
    "Our function, then is: y = 0.04576465*TV + 0.18853002*radio - 0.00103749*newspaper + 2.93888936946\n",
    "'''"
   ]
  },
  {
   "cell_type": "code",
   "execution_count": 22,
   "metadata": {},
   "outputs": [
    {
     "name": "stdout",
     "output_type": "stream",
     "text": [
      "0.897210638179\n"
     ]
    }
   ],
   "source": [
    "'''\n",
    "How can we check the acurracy of this model? There are a few indicators. The first one is Rsquare (R²).\n",
    "R² floats from 0 to 1, where 1 means that the funcion explain 100% of the model. So, the higher R²,\n",
    "the better the model.\n",
    "'''\n",
    "rsquare = reg.score(X, y)\n",
    "print(rsquare) # Our R² is 0.8972, or 89.72% of the sales behavior is explained by that equation"
   ]
  },
  {
   "cell_type": "code",
   "execution_count": 31,
   "metadata": {},
   "outputs": [
    {
     "data": {
      "text/plain": [
       "array([ 22.54588062,  17.64396966,  12.36242   ])"
      ]
     },
     "execution_count": 31,
     "metadata": {},
     "output_type": "execute_result"
    }
   ],
   "source": [
    "'''\n",
    "Let's play with predictions now. We're going to create a new dataset with our future budgets for TV, \n",
    "radio and newspaper\n",
    "'''\n",
    "\n",
    "import numpy as np\n",
    "future_budget = np.array([[100, 80, 50], [200, 30, 100], [140, 16, 0]])\n",
    "reg.predict(future_budget)"
   ]
  },
  {
   "cell_type": "markdown",
   "metadata": {
    "collapsed": true
   },
   "source": [
    "Remember, all values are in thousand of dollars\n",
    "In the first scenario, where we invested $100 in TV, $80 in radio and $50 in newspaper, our sales will be $22.54 \n",
    "with almost 90% os accuracy.\n",
    "\n",
    "In this example we used a technique called `Ordinary Least Squares` (OLS) and it is the simpliest form or regression.\n",
    "Coefficient estimates for Ordinary Least Squares rely on the independence of the model terms. In our case, if for some\n",
    "reason, TV, radio or newspaper where correlated with each other, our model becomes highly sensitive\n",
    "to random errors in the observed response, producing a large variance. It means that our predicted outcome wouldn't be\n",
    "reliable.\n",
    "\n",
    "This fairly simple example could been done in Excel or any other statistical software. I reproduced it using Gretl\n",
    "and the outcome was the same\n",
    "\n",
    "(https://i.imgur.com/kvhnQOJ.png)"
   ]
  },
  {
   "cell_type": "markdown",
   "metadata": {},
   "source": [
    "But what is the advantage of using other Machine Learning algorithims to this?\n",
    "With advanced algorithims, we can adjust better or parameters and produce a more acurate output.\n",
    "\n",
    "Let's do the same exercice, but now using Machine Learning"
   ]
  },
  {
   "cell_type": "code",
   "execution_count": 32,
   "metadata": {},
   "outputs": [
    {
     "data": {
      "text/html": [
       "<div>\n",
       "<style>\n",
       "    .dataframe thead tr:only-child th {\n",
       "        text-align: right;\n",
       "    }\n",
       "\n",
       "    .dataframe thead th {\n",
       "        text-align: left;\n",
       "    }\n",
       "\n",
       "    .dataframe tbody tr th {\n",
       "        vertical-align: top;\n",
       "    }\n",
       "</style>\n",
       "<table border=\"1\" class=\"dataframe\">\n",
       "  <thead>\n",
       "    <tr style=\"text-align: right;\">\n",
       "      <th></th>\n",
       "      <th>TV</th>\n",
       "      <th>radio</th>\n",
       "      <th>newspaper</th>\n",
       "      <th>sales</th>\n",
       "    </tr>\n",
       "  </thead>\n",
       "  <tbody>\n",
       "    <tr>\n",
       "      <th>1</th>\n",
       "      <td>230.1</td>\n",
       "      <td>37.8</td>\n",
       "      <td>69.2</td>\n",
       "      <td>22.1</td>\n",
       "    </tr>\n",
       "    <tr>\n",
       "      <th>2</th>\n",
       "      <td>44.5</td>\n",
       "      <td>39.3</td>\n",
       "      <td>45.1</td>\n",
       "      <td>10.4</td>\n",
       "    </tr>\n",
       "    <tr>\n",
       "      <th>3</th>\n",
       "      <td>17.2</td>\n",
       "      <td>45.9</td>\n",
       "      <td>69.3</td>\n",
       "      <td>9.3</td>\n",
       "    </tr>\n",
       "    <tr>\n",
       "      <th>4</th>\n",
       "      <td>151.5</td>\n",
       "      <td>41.3</td>\n",
       "      <td>58.5</td>\n",
       "      <td>18.5</td>\n",
       "    </tr>\n",
       "    <tr>\n",
       "      <th>5</th>\n",
       "      <td>180.8</td>\n",
       "      <td>10.8</td>\n",
       "      <td>58.4</td>\n",
       "      <td>12.9</td>\n",
       "    </tr>\n",
       "  </tbody>\n",
       "</table>\n",
       "</div>"
      ],
      "text/plain": [
       "      TV  radio  newspaper  sales\n",
       "1  230.1   37.8       69.2   22.1\n",
       "2   44.5   39.3       45.1   10.4\n",
       "3   17.2   45.9       69.3    9.3\n",
       "4  151.5   41.3       58.5   18.5\n",
       "5  180.8   10.8       58.4   12.9"
      ]
     },
     "execution_count": 32,
     "metadata": {},
     "output_type": "execute_result"
    }
   ],
   "source": [
    "# We still have our original dataset\n",
    "dataset.head()"
   ]
  },
  {
   "cell_type": "code",
   "execution_count": 34,
   "metadata": {},
   "outputs": [],
   "source": [
    "'''\n",
    "Now we are going to split this dataset into 2 pieces: the trainig and the test\n",
    "The training dataset will be used by our Machine Learning algorithim to test the hypotesis generated to see\n",
    "which one fits the best. Then, it will use it in test dataset to produce our final outcome\n",
    "'''\n",
    "from sklearn.model_selection import train_test_split\n",
    "X_train, X_test, y_train, y_test = train_test_split(X, y, random_state=1)"
   ]
  },
  {
   "cell_type": "code",
   "execution_count": 35,
   "metadata": {},
   "outputs": [
    {
     "name": "stdout",
     "output_type": "stream",
     "text": [
      "(150, 3)\n",
      "(150,)\n",
      "(50, 3)\n",
      "(50,)\n"
     ]
    }
   ],
   "source": [
    "# Default is 75% for training and 25% for testing\n",
    "print(X_train.shape) # 150 lines, 3 columns (TV, radio and newspaper)\n",
    "print(y_train.shape)\n",
    "print(X_test.shape)\n",
    "print(y_test.shape)"
   ]
  },
  {
   "cell_type": "code",
   "execution_count": 45,
   "metadata": {},
   "outputs": [
    {
     "name": "stdout",
     "output_type": "stream",
     "text": [
      "2.87696662232\n",
      "[ 0.04656457  0.17915812  0.00345046]\n",
      "0.890307557756\n"
     ]
    }
   ],
   "source": [
    "# Let's run another regression and see the coeficients\n",
    "ml_reg = linear_model.LinearRegression()\n",
    "ml_reg.fit(X_train, y_train)\n",
    "\n",
    "print(ml_reg.intercept_)\n",
    "print(ml_reg.coef_)\n",
    "print(ml_reg.score(X_train, y_train))"
   ]
  },
  {
   "cell_type": "code",
   "execution_count": 40,
   "metadata": {},
   "outputs": [
    {
     "name": "stdout",
     "output_type": "stream",
     "text": [
      "[ 21.70910292  16.41055243   7.60955058  17.80769552  18.6146359\n",
      "  23.83573998  16.32488681  13.43225536   9.17173403  17.333853\n",
      "  14.44479482   9.83511973  17.18797614  16.73086831  15.05529391\n",
      "  15.61434433  12.42541574  17.17716376  11.08827566  18.00537501\n",
      "   9.28438889  12.98458458   8.79950614  10.42382499  11.3846456\n",
      "  14.98082512   9.78853268  19.39643187  18.18099936  17.12807566\n",
      "  21.54670213  14.69809481  16.24641438  12.32114579  19.92422501\n",
      "  15.32498602  13.88726522  10.03162255  20.93105915   7.44936831\n",
      "   3.64695761   7.22020178   5.9962782   18.43381853   8.39408045\n",
      "  14.08371047  15.02195699  20.35836418  20.57036347  19.60636679]\n"
     ]
    }
   ],
   "source": [
    "'''\n",
    "Our previous intercept and coeficient was \n",
    "2.93888936946\n",
    "[ 0.04576465  0.18853002 -0.00103749]\n",
    "\n",
    "The Rsquare is almost the same.\n",
    "\n",
    "We have a huge difference here: in this model, newspaper doesn't reduce sales.\n",
    "So now our function is y = 0.04656457*TV + 0.17915812*radio + 0.00345046*newspaper + 2.87696662232\n",
    "\n",
    "Now we are going to use our test dataset to make the predictions\n",
    "'''\n",
    "y_pred = ml_reg.predict(X_test)\n",
    "print(y_pred)"
   ]
  },
  {
   "cell_type": "code",
   "execution_count": 43,
   "metadata": {},
   "outputs": [
    {
     "name": "stdout",
     "output_type": "stream",
     "text": [
      "1.40465142303\n"
     ]
    }
   ],
   "source": [
    "'''\n",
    "So if we use our budgets in test dataset to predict sales, that would be our values. But it is correct?\n",
    "Let's compare our predicted sales with actual sales.\n",
    "\n",
    "We are going to use a metric called RMSE: Root Mean Squared Errors. We gonna calculate the difference between \n",
    "our current sales with the one we predicted above, square it and then take out its root. This way, big outliers won't\n",
    "affect our average\n",
    "'''\n",
    "from sklearn import metrics\n",
    "rmse = np.sqrt(metrics.mean_squared_error(y_test, y_pred))\n",
    "print(rmse)"
   ]
  },
  {
   "cell_type": "code",
   "execution_count": 44,
   "metadata": {},
   "outputs": [
    {
     "name": "stdout",
     "output_type": "stream",
     "text": [
      "21.93508242232\n"
     ]
    }
   ],
   "source": [
    "'''\n",
    "This result means that the predicted values, in average, are $1.40 above or below the true sales value.\n",
    "It's a pretty good model. So, if we want to predict our sales for a $100 budget on TV, $80 on radio and $20 on \n",
    "newspaper, we would have:\n",
    "'''\n",
    "TV = 100\n",
    "radio = 80\n",
    "newspaper = 20\n",
    "y = 0.04656457*TV + 0.17915812*radio + 0.00345046*newspaper + 2.87696662232\n",
    "\n",
    "print(y)"
   ]
  },
  {
   "cell_type": "markdown",
   "metadata": {},
   "source": [
    "Given that our error is 1.40, we can say that, for that budget on TV, radio and newspaper, our sales would be somewhere between 20.53 and 23.33.\n",
    "\n",
    "So, wich one is best? Well, now it's time to interpretate the results.\n",
    "\n",
    "In this particular case, it's highly unlikely that advertise something in the newspaper would bring our sales down. Maybe newspaper ads is in the past and because of that it doesn't affect our sales too much.\n",
    "\n",
    "I would say that the second model fits the best. "
   ]
  }
 ],
 "metadata": {
  "kernelspec": {
   "display_name": "Python 3",
   "language": "python",
   "name": "python3"
  },
  "language_info": {
   "codemirror_mode": {
    "name": "ipython",
    "version": 3
   },
   "file_extension": ".py",
   "mimetype": "text/x-python",
   "name": "python",
   "nbconvert_exporter": "python",
   "pygments_lexer": "ipython3",
   "version": "3.6.1"
  }
 },
 "nbformat": 4,
 "nbformat_minor": 2
}
